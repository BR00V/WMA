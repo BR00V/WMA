{
 "cells": [
  {
   "cell_type": "code",
   "execution_count": 97,
   "id": "aa7cc69d-5160-4a12-b122-40c054313c31",
   "metadata": {},
   "outputs": [],
   "source": [
    "import matplotlib.pyplot as plt\n",
    "import numpy as np\n",
    "import os\n",
    "import PIL\n",
    "import tensorflow as tf\n",
    "\n",
    "from tensorflow import keras\n",
    "from tensorflow.keras import layers\n",
    "from tensorflow.keras.models import Sequential"
   ]
  },
  {
   "attachments": {},
   "cell_type": "markdown",
   "id": "482b7e6e-18c9-47c4-9b9a-d08d1971ca1c",
   "metadata": {},
   "source": [
    "# Wczytywanie"
   ]
  },
  {
   "cell_type": "code",
   "execution_count": 98,
   "id": "45e03279-26df-42dd-bf7e-bdcfb6ba92a4",
   "metadata": {},
   "outputs": [
    {
     "name": "stdout",
     "output_type": "stream",
     "text": [
      "30\n"
     ]
    }
   ],
   "source": [
    "import pathlib\n",
    "data_dir = pathlib.Path('Images')\n",
    "image_count = len(list(data_dir.glob('*/*.jpg')))\n",
    "print(image_count)"
   ]
  },
  {
   "attachments": {},
   "cell_type": "markdown",
   "id": "500d19aa-3e66-4f32-86a6-f78f44c04d07",
   "metadata": {},
   "source": [
    "# Podział danych"
   ]
  },
  {
   "cell_type": "code",
   "execution_count": 99,
   "id": "dc8b0c87-dd01-468d-a480-fc686f7e1eff",
   "metadata": {},
   "outputs": [
    {
     "name": "stdout",
     "output_type": "stream",
     "text": [
      "Found 30 files belonging to 3 classes.\n",
      "Using 24 files for training.\n"
     ]
    }
   ],
   "source": [
    "batch_size = 30\n",
    "img_height = 255\n",
    "img_width = 255\n",
    "\n",
    "train = tf.keras.utils.image_dataset_from_directory(\n",
    "  data_dir,\n",
    "  validation_split=0.2,\n",
    "  subset=\"training\",\n",
    "  seed=1,\n",
    "  image_size=(img_height, img_width),\n",
    "  batch_size=batch_size)"
   ]
  },
  {
   "cell_type": "code",
   "execution_count": 100,
   "id": "78436b07-ec3a-4760-be2c-e2cedfb1a948",
   "metadata": {},
   "outputs": [
    {
     "name": "stdout",
     "output_type": "stream",
     "text": [
      "Found 30 files belonging to 3 classes.\n",
      "Using 6 files for validation.\n"
     ]
    }
   ],
   "source": [
    "val = tf.keras.utils.image_dataset_from_directory(\n",
    "  data_dir,\n",
    "  validation_split=0.2,\n",
    "  subset=\"validation\",\n",
    "  seed=1,\n",
    "  image_size=(img_height, img_width),\n",
    "  batch_size=batch_size)"
   ]
  },
  {
   "attachments": {},
   "cell_type": "markdown",
   "id": "e7b3e465-d6d3-4bc3-98aa-758a975b3077",
   "metadata": {},
   "source": [
    "## Wyciąganie klas"
   ]
  },
  {
   "cell_type": "code",
   "execution_count": 101,
   "id": "7c78115d-88f9-4934-9af0-ba0199a5d60f",
   "metadata": {},
   "outputs": [],
   "source": [
    "class_names = train.class_names"
   ]
  },
  {
   "cell_type": "code",
   "execution_count": 102,
   "id": "89877d19-718a-4a7d-b827-0aab3b7b4aaf",
   "metadata": {},
   "outputs": [
    {
     "name": "stdout",
     "output_type": "stream",
     "text": [
      "['Klawiatura', 'Kubek', 'ksiazka']\n"
     ]
    }
   ],
   "source": [
    "print(class_names)"
   ]
  },
  {
   "attachments": {},
   "cell_type": "markdown",
   "id": "0b62337f-3122-4b4e-850f-943e1ab11748",
   "metadata": {},
   "source": [
    "# Model"
   ]
  },
  {
   "cell_type": "code",
   "execution_count": 103,
   "id": "959ef7e0-197c-4aff-856a-c9d497f2543e",
   "metadata": {},
   "outputs": [
    {
     "name": "stdout",
     "output_type": "stream",
     "text": [
      "Epoch 1/20\n"
     ]
    },
    {
     "name": "stdout",
     "output_type": "stream",
     "text": [
      "1/1 [==============================] - 1s 884ms/step - loss: 1.1052 - accuracy: 0.3750 - val_loss: 7.8566 - val_accuracy: 0.3333\n",
      "Epoch 2/20\n",
      "1/1 [==============================] - 0s 357ms/step - loss: 8.6959 - accuracy: 0.3333 - val_loss: 3.2540 - val_accuracy: 0.5000\n",
      "Epoch 3/20\n",
      "1/1 [==============================] - 0s 356ms/step - loss: 3.8605 - accuracy: 0.2917 - val_loss: 2.6357 - val_accuracy: 0.1667\n",
      "Epoch 4/20\n",
      "1/1 [==============================] - 0s 362ms/step - loss: 1.5640 - accuracy: 0.5417 - val_loss: 2.9824 - val_accuracy: 0.1667\n",
      "Epoch 5/20\n",
      "1/1 [==============================] - 0s 365ms/step - loss: 1.5102 - accuracy: 0.4167 - val_loss: 1.6095 - val_accuracy: 0.1667\n",
      "Epoch 6/20\n",
      "1/1 [==============================] - 0s 362ms/step - loss: 0.6137 - accuracy: 0.6250 - val_loss: 0.9474 - val_accuracy: 0.6667\n",
      "Epoch 7/20\n",
      "1/1 [==============================] - 0s 369ms/step - loss: 0.3527 - accuracy: 1.0000 - val_loss: 0.8198 - val_accuracy: 0.5000\n",
      "Epoch 8/20\n",
      "1/1 [==============================] - 0s 367ms/step - loss: 0.4034 - accuracy: 0.8750 - val_loss: 0.7889 - val_accuracy: 0.3333\n",
      "Epoch 9/20\n",
      "1/1 [==============================] - 0s 371ms/step - loss: 0.3914 - accuracy: 0.8750 - val_loss: 0.7328 - val_accuracy: 0.5000\n",
      "Epoch 10/20\n",
      "1/1 [==============================] - 0s 368ms/step - loss: 0.2921 - accuracy: 0.9583 - val_loss: 0.8007 - val_accuracy: 0.5000\n",
      "Epoch 11/20\n",
      "1/1 [==============================] - 0s 376ms/step - loss: 0.2080 - accuracy: 1.0000 - val_loss: 1.0470 - val_accuracy: 0.5000\n",
      "Epoch 12/20\n",
      "1/1 [==============================] - 0s 391ms/step - loss: 0.2019 - accuracy: 0.9583 - val_loss: 1.0563 - val_accuracy: 0.6667\n",
      "Epoch 13/20\n",
      "1/1 [==============================] - 0s 382ms/step - loss: 0.1600 - accuracy: 1.0000 - val_loss: 0.9050 - val_accuracy: 0.6667\n",
      "Epoch 14/20\n",
      "1/1 [==============================] - 0s 385ms/step - loss: 0.1047 - accuracy: 1.0000 - val_loss: 0.7452 - val_accuracy: 0.6667\n",
      "Epoch 15/20\n",
      "1/1 [==============================] - 0s 371ms/step - loss: 0.0724 - accuracy: 1.0000 - val_loss: 0.6160 - val_accuracy: 0.5000\n",
      "Epoch 16/20\n",
      "1/1 [==============================] - 0s 389ms/step - loss: 0.0533 - accuracy: 1.0000 - val_loss: 0.5407 - val_accuracy: 0.8333\n",
      "Epoch 17/20\n",
      "1/1 [==============================] - 0s 380ms/step - loss: 0.0387 - accuracy: 1.0000 - val_loss: 0.5155 - val_accuracy: 0.8333\n",
      "Epoch 18/20\n",
      "1/1 [==============================] - 0s 387ms/step - loss: 0.0255 - accuracy: 1.0000 - val_loss: 0.5320 - val_accuracy: 0.8333\n",
      "Epoch 19/20\n",
      "1/1 [==============================] - 0s 378ms/step - loss: 0.0149 - accuracy: 1.0000 - val_loss: 0.6282 - val_accuracy: 0.5000\n",
      "Epoch 20/20\n",
      "1/1 [==============================] - 0s 372ms/step - loss: 0.0084 - accuracy: 1.0000 - val_loss: 0.8282 - val_accuracy: 0.6667\n"
     ]
    }
   ],
   "source": [
    "model = Sequential([\n",
    "  layers.Rescaling(1./255, input_shape=(img_height, img_width, 3)),\n",
    "  layers.Conv2D(32, 3, padding='same', activation='relu'),\n",
    "  layers.MaxPooling2D(),\n",
    "  layers.Conv2D(64, 3, padding='same', activation='relu'),\n",
    "  layers.MaxPooling2D(),\n",
    "  layers.Flatten(),\n",
    "  layers.Dense(len(class_names),activation='sigmoid')\n",
    "])\n",
    "\n",
    "model.compile(optimizer='adam',\n",
    "              loss=tf.keras.losses.SparseCategoricalCrossentropy(),\n",
    "              metrics=['accuracy'])\n",
    "\n",
    "history = model.fit(\n",
    "  train,\n",
    "  validation_data=val,\n",
    "  epochs=20\n",
    ")"
   ]
  },
  {
   "attachments": {},
   "cell_type": "markdown",
   "id": "00b61880-8ebf-4ebf-a075-66876bde169c",
   "metadata": {},
   "source": [
    "# Augmentacja"
   ]
  },
  {
   "cell_type": "code",
   "execution_count": 104,
   "id": "ae809016-b3c6-4fdc-89c9-bf04ddea6076",
   "metadata": {},
   "outputs": [
    {
     "name": "stdout",
     "output_type": "stream",
     "text": [
      "Found 30 images belonging to 3 classes.\n"
     ]
    }
   ],
   "source": [
    "from tensorflow.keras.preprocessing.image import ImageDataGenerator\n",
    "data_aug = ImageDataGenerator(\n",
    "    rescale = 1./255,\n",
    "    rotation_range=90,\n",
    "    width_shift_range=0.2,\n",
    "    height_shift_range=0.2,\n",
    "    shear_range=0.2,\n",
    "    zoom_range=0.2,\n",
    "    horizontal_flip=True,\n",
    "    vertical_flip=True,\n",
    "    )\n",
    "\n",
    "train_gen = data_aug.flow_from_directory(\n",
    "        data_dir,\n",
    "        target_size=(255, 255),\n",
    "        batch_size = 30,\n",
    "        class_mode=\"categorical\",\n",
    "        color_mode = \"grayscale\")"
   ]
  },
  {
   "attachments": {},
   "cell_type": "markdown",
   "id": "ae884d59-b610-4808-ac3a-a9748744c999",
   "metadata": {},
   "source": [
    "## Dopasowywanie modelu\n"
   ]
  },
  {
   "cell_type": "code",
   "execution_count": 105,
   "id": "cdcda756-9c55-4714-a128-f1486f55246c",
   "metadata": {},
   "outputs": [],
   "source": [
    "model.compile(optimizer='adam',\n",
    "              loss=tf.keras.losses.CategoricalCrossentropy(),\n",
    "              metrics=['accuracy'])\n",
    "\n",
    "x_train = []\n",
    "y_train = []\n",
    "\n",
    "for _ in range (20):\n",
    "    img, label = next(train_gen)\n",
    "    for __ in range(img.shape[0]):\n",
    "        x_train.append(img[__])\n",
    "        y_train.append(label[__])\n",
    "x_train = np.array(x_train)\n",
    "y_train = np.array(y_train)"
   ]
  },
  {
   "cell_type": "code",
   "execution_count": 106,
   "id": "cd29d6c7-1cfb-49b0-b511-9e64a77e71c8",
   "metadata": {},
   "outputs": [
    {
     "data": {
      "text/plain": [
       "(600, 255, 255, 1)"
      ]
     },
     "execution_count": 106,
     "metadata": {},
     "output_type": "execute_result"
    }
   ],
   "source": [
    "x_train.shape"
   ]
  },
  {
   "cell_type": "code",
   "execution_count": 107,
   "id": "a9e81f07-234e-4f93-bb0e-fc49c06cdc07",
   "metadata": {},
   "outputs": [
    {
     "data": {
      "text/plain": [
       "(600, 3)"
      ]
     },
     "execution_count": 107,
     "metadata": {},
     "output_type": "execute_result"
    }
   ],
   "source": [
    "y_train.shape"
   ]
  },
  {
   "cell_type": "code",
   "execution_count": 96,
   "id": "cb3a256f-236b-490e-ae27-3fbb41de0913",
   "metadata": {},
   "outputs": [
    {
     "name": "stdout",
     "output_type": "stream",
     "text": [
      "Epoch 1/20\n",
      "15/15 [==============================] - 6s 341ms/step - loss: 1.5979 - accuracy: 0.3458 - val_loss: 1.1476 - val_accuracy: 0.3583\n",
      "Epoch 2/20\n",
      "15/15 [==============================] - 5s 339ms/step - loss: 1.0877 - accuracy: 0.4292 - val_loss: 1.0640 - val_accuracy: 0.4583\n",
      "Epoch 3/20\n",
      "15/15 [==============================] - 5s 345ms/step - loss: 1.0412 - accuracy: 0.4313 - val_loss: 1.0330 - val_accuracy: 0.3583\n",
      "Epoch 4/20\n",
      "15/15 [==============================] - 5s 349ms/step - loss: 0.9982 - accuracy: 0.4583 - val_loss: 1.0111 - val_accuracy: 0.4250\n",
      "Epoch 5/20\n",
      "15/15 [==============================] - 5s 350ms/step - loss: 0.9645 - accuracy: 0.5021 - val_loss: 1.0209 - val_accuracy: 0.4417\n",
      "Epoch 6/20\n",
      "15/15 [==============================] - 5s 353ms/step - loss: 0.9237 - accuracy: 0.5354 - val_loss: 1.0199 - val_accuracy: 0.4000\n",
      "Epoch 7/20\n",
      "15/15 [==============================] - 5s 344ms/step - loss: 0.8798 - accuracy: 0.5396 - val_loss: 1.0331 - val_accuracy: 0.3917\n",
      "Epoch 8/20\n",
      "15/15 [==============================] - 5s 338ms/step - loss: 0.8267 - accuracy: 0.5958 - val_loss: 1.0499 - val_accuracy: 0.3750\n",
      "Epoch 9/20\n",
      "15/15 [==============================] - 5s 339ms/step - loss: 0.7742 - accuracy: 0.6313 - val_loss: 1.0541 - val_accuracy: 0.4000\n",
      "Epoch 10/20\n",
      "15/15 [==============================] - 5s 344ms/step - loss: 0.7055 - accuracy: 0.6833 - val_loss: 1.1556 - val_accuracy: 0.4917\n",
      "Epoch 11/20\n",
      "15/15 [==============================] - 5s 345ms/step - loss: 0.6768 - accuracy: 0.7042 - val_loss: 1.1198 - val_accuracy: 0.4333\n",
      "Epoch 12/20\n",
      "15/15 [==============================] - 5s 342ms/step - loss: 0.6266 - accuracy: 0.6958 - val_loss: 1.1182 - val_accuracy: 0.4583\n",
      "Epoch 13/20\n",
      "15/15 [==============================] - 5s 339ms/step - loss: 0.5757 - accuracy: 0.7417 - val_loss: 1.2020 - val_accuracy: 0.4583\n",
      "Epoch 14/20\n",
      "15/15 [==============================] - 5s 341ms/step - loss: 0.5126 - accuracy: 0.7792 - val_loss: 1.2037 - val_accuracy: 0.4583\n",
      "Epoch 15/20\n",
      "15/15 [==============================] - 5s 371ms/step - loss: 0.4715 - accuracy: 0.8083 - val_loss: 1.3390 - val_accuracy: 0.4500\n",
      "Epoch 16/20\n",
      "15/15 [==============================] - 6s 372ms/step - loss: 0.4511 - accuracy: 0.8062 - val_loss: 1.3633 - val_accuracy: 0.4333\n",
      "Epoch 17/20\n",
      "15/15 [==============================] - 5s 349ms/step - loss: 0.3991 - accuracy: 0.8333 - val_loss: 1.4377 - val_accuracy: 0.4917\n",
      "Epoch 18/20\n",
      "15/15 [==============================] - 5s 350ms/step - loss: 0.3572 - accuracy: 0.8667 - val_loss: 1.5424 - val_accuracy: 0.4833\n",
      "Epoch 19/20\n",
      "15/15 [==============================] - 5s 351ms/step - loss: 0.3113 - accuracy: 0.8813 - val_loss: 1.5999 - val_accuracy: 0.4667\n",
      "Epoch 20/20\n",
      "15/15 [==============================] - 5s 354ms/step - loss: 0.2816 - accuracy: 0.9000 - val_loss: 1.6766 - val_accuracy: 0.4667\n"
     ]
    }
   ],
   "source": [
    "from tensorflow import keras\n",
    "from keras.models import Sequential\n",
    "from keras.layers import Conv2D\n",
    "from keras.layers import MaxPooling2D\n",
    "from keras.layers import Dense\n",
    "from keras.layers import Flatten\n",
    "\n",
    "model = Sequential()\n",
    "model.add(Conv2D(32, 1, activation='relu', input_shape=(img_height, img_width, 1)))\n",
    "model.add(MaxPooling2D())\n",
    "model.add(Conv2D(64,1, activation='relu', padding='same'))\n",
    "model.add(MaxPooling2D())\n",
    "model.add(Conv2D(128,1, activation='relu', padding='same'))\n",
    "model.add(MaxPooling2D())\n",
    "model.add(Flatten())\n",
    "model.add(Dense(len(class_names),activation='sigmoid'))\n",
    "\n",
    "\n",
    "model.compile(optimizer='adam',\n",
    "              loss=tf.keras.losses.CategoricalCrossentropy(),\n",
    "              metrics=['accuracy'])\n",
    "\n",
    "history = model.fit(x_train,y_train,validation_split = 0.2, epochs = 20)\n"
   ]
  },
  {
   "cell_type": "code",
   "execution_count": 108,
   "id": "c137fd75-f12e-4da5-9e98-48ccff996b78",
   "metadata": {},
   "outputs": [
    {
     "data": {
      "image/png": "[encoded data removed]",
      "text/plain": [
       "<Figure size 640x480 with 1 Axes>"
      ]
     },
     "metadata": {},
     "output_type": "display_data"
    },
    {
     "data": {
      "image/png": "[encoded data removed]",
      "text/plain": [
       "<Figure size 640x480 with 1 Axes>"
      ]
     },
     "metadata": {},
     "output_type": "display_data"
    }
   ],
   "source": [
    "plt.plot(history.history['loss'])\n",
    "plt.plot(history.history['val_loss'])\n",
    "plt.ylabel('loss')\n",
    "plt.xlabel('epoch')\n",
    "plt.legend(['train', 'validation'], loc='upper left')\n",
    "plt.show()\n",
    "plt.plot(history.history['accuracy'])\n",
    "plt.plot(history.history['val_accuracy'])\n",
    "plt.ylabel('accuracy')\n",
    "plt.xlabel('epoch')\n",
    "plt.legend(['train', 'validation'], loc='upper left')\n",
    "plt.show()"
   ]
  },
  {
   "cell_type": "code",
   "execution_count": null,
   "id": "b656a7d6-5244-476a-a770-6f92566eb6aa",
   "metadata": {},
   "outputs": [],
   "source": []
  }
 ],
 "metadata": {
  "kernelspec": {
   "display_name": "Python 3 (ipykernel)",
   "language": "python",
   "name": "python3"
  },
  "language_info": {
   "codemirror_mode": {
    "name": "ipython",
    "version": 3
   },
   "file_extension": ".py",
   "mimetype": "text/x-python",
   "name": "python",
   "nbconvert_exporter": "python",
   "pygments_lexer": "ipython3",
   "version": "3.10.9"
  }
 },
 "nbformat": 4,
 "nbformat_minor": 5
}
