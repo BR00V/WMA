{
 "cells": [
  {
   "cell_type": "code",
   "execution_count": 4,
   "metadata": {},
   "outputs": [],
   "source": [
    "import cv2 as cv\n",
    "import numpy as np"
   ]
  },
  {
   "cell_type": "code",
   "execution_count": 5,
   "metadata": {},
   "outputs": [],
   "source": [
    "def addMoney(color):\n",
    "    if color == (255,0,0):\n",
    "        return 5.0\n",
    "    else:\n",
    "        return 0.05"
   ]
  },
  {
   "cell_type": "code",
   "execution_count": 10,
   "metadata": {},
   "outputs": [
    {
     "ename": "error",
     "evalue": "OpenCV(4.7.0) D:\\a\\opencv-python\\opencv-python\\opencv\\modules\\imgproc\\src\\median_blur.dispatch.cpp:283: error: (-215:Assertion failed) !_src0.empty() in function 'cv::medianBlur'\n",
     "output_type": "error",
     "traceback": [
      "\u001b[1;31m---------------------------------------------------------------------------\u001b[0m",
      "\u001b[1;31merror\u001b[0m                                     Traceback (most recent call last)",
      "Cell \u001b[1;32mIn[10], line 2\u001b[0m\n\u001b[0;32m      1\u001b[0m img \u001b[39m=\u001b[39m cv\u001b[39m.\u001b[39mimread(\u001b[39m\"\u001b[39m\u001b[39mZadania/ZAD_2/trays/tray1.jpg\u001b[39m\u001b[39m\"\u001b[39m)\n\u001b[1;32m----> 2\u001b[0m img \u001b[39m=\u001b[39m cv\u001b[39m.\u001b[39;49mmedianBlur(img,\u001b[39m3\u001b[39;49m)\n\u001b[0;32m      3\u001b[0m cimg \u001b[39m=\u001b[39m cv\u001b[39m.\u001b[39mcvtColor(img, cv\u001b[39m.\u001b[39mCOLOR_BGR2GRAY)\n\u001b[0;32m      6\u001b[0m edge \u001b[39m=\u001b[39m cv\u001b[39m.\u001b[39mCanny(cimg,\u001b[39m100\u001b[39m,\u001b[39m200\u001b[39m,apertureSize\u001b[39m=\u001b[39m\u001b[39m3\u001b[39m)\n",
      "\u001b[1;31merror\u001b[0m: OpenCV(4.7.0) D:\\a\\opencv-python\\opencv-python\\opencv\\modules\\imgproc\\src\\median_blur.dispatch.cpp:283: error: (-215:Assertion failed) !_src0.empty() in function 'cv::medianBlur'\n"
     ]
    }
   ],
   "source": [
    "img = cv.imread(\"Zadania/ZAD_2/trays/tray1.jpg\")\n",
    "img = cv.medianBlur(img,3)\n",
    "cimg = cv.cvtColor(img, cv.COLOR_BGR2GRAY)\n",
    "\n",
    "\n",
    "edge = cv.Canny(cimg,100,200,apertureSize=3)\n",
    "line = cv.HoughLinesP(edge,1,np.pi/180,50,minLineLength=100,maxLineGap=20)\n",
    "\n",
    "xs = np.sort(line[:,0,0::2].reshape(2*len(line[:,0,0])))\n",
    "ys = np.sort(line[:,0,1::2].reshape(2*len(line[:,0,0])))\n",
    "\n",
    "circles = cv.HoughCircles(img,cv.HOUGH_GRADIENT,1,20, param1= 140, param2=40, minRadius= 0,maxRadius=100)\n",
    "circles = np.unit16(np.around(circles))\n",
    "\n",
    "max = circles [0,:,2]\n",
    "\n",
    "max = np.sort(max)[::-1][:2]\n",
    "\n",
    "sum = 0.0\n",
    "count = 0\n",
    "\n",
    "for i in circles[0,:]:\n",
    "    if i[2] in max:\n",
    "        color = (255,0,0)\n",
    "    else:\n",
    "        color = [0,255,0]\n",
    "\n",
    "    if(xs[0]< i[0] < xs[-1]) and (ys[0]< i[1] < ys[-1]):\n",
    "        mcolor = (0,0,255)\n",
    "        sum += addMoney(color)\n",
    "        count +=1\n",
    "\n",
    "    else: \n",
    "        mcolor = (0,0,0)\n",
    "\n",
    "    cv.circle(cimg,(i[0],i[1]),i[2],color,2)\n",
    "    cv.circle(cimg,(i[0],i[1]),2,mcolor,3)\n",
    "\n",
    "    print(f'Na tacy jest : {count} monet, poza taca jest {len(circles[0,:,2])- count}')\n",
    "    print(f\"Wartość to : {'{0:.2f}'.format(sum)}) pln\")\n",
    "\n",
    "    cv.imshow(\"monety\", cimg)\n",
    "    key = cv.waitKey(-1) &  0xFF \n",
    "    cv.destroyAllWindows\n"
   ]
  }
 ],
 "metadata": {
  "kernelspec": {
   "display_name": "base",
   "language": "python",
   "name": "python3"
  },
  "language_info": {
   "codemirror_mode": {
    "name": "ipython",
    "version": 3
   },
   "file_extension": ".py",
   "mimetype": "text/x-python",
   "name": "python",
   "nbconvert_exporter": "python",
   "pygments_lexer": "ipython3",
   "version": "3.10.9"
  },
  "orig_nbformat": 4
 },
 "nbformat": 4,
 "nbformat_minor": 2
}
