{
 "cells": [
  {
   "cell_type": "code",
   "execution_count": 27,
   "metadata": {
    "ExecuteTime": {
     "end_time": "2023-05-15T10:46:04.712520200Z",
     "start_time": "2023-05-15T10:46:04.696232400Z"
    }
   },
   "outputs": [],
   "source": [
    "import numpy as np \n",
    "import cv2 as cv"
   ]
  },
  {
   "cell_type": "code",
   "execution_count": 28,
   "metadata": {
    "ExecuteTime": {
     "end_time": "2023-05-15T10:46:04.739127600Z",
     "start_time": "2023-05-15T10:46:04.713666600Z"
    }
   },
   "outputs": [
    {
     "data": {
      "text/plain": [
       "<function destroyAllWindows>"
      ]
     },
     "execution_count": 28,
     "metadata": {},
     "output_type": "execute_result"
    }
   ],
   "source": [
    "img = cv.imread('C:\\\\Users\\\\jakpi\\\\OneDrive\\\\Pulpit\\\\WMA\\\\Zadania\\\\ZAD_3\\\\SAWS\\\\saw1.jpg')\n",
    "gray = cv.cvtColor(img, cv.COLOR_BGR2GRAY)\n",
    "sift = cv.SIFT_create()\n",
    "kp = sift.detect(gray, None)\n",
    "img = cv.drawKeypoints(gray,kp,img)\n",
    "\n",
    "img = cv.drawKeypoints(gray,kp,img,flags= cv.DRAW_MATCHES_FLAGS_DRAW_RICH_KEYPOINTS)\n",
    "\n",
    "img = cv.resize(img, (800, 600))\n",
    "cv.imshow(\"piła\", img)\n",
    "key = cv.waitKey(-1) &  0xFF \n",
    "cv.destroyAllWindows"
   ]
  },
  {
   "cell_type": "code",
   "execution_count": 29,
   "metadata": {
    "ExecuteTime": {
     "start_time": "2023-05-15T10:46:04.728611800Z"
    }
   },
   "outputs": [
    {
     "data": {
      "text/plain": [
       "<function destroyAllWindows>"
      ]
     },
     "execution_count": 29,
     "metadata": {},
     "output_type": "execute_result"
    }
   ],
   "source": [
    "img1 = cv.imread('C:\\\\Users\\\\jakpi\\\\OneDrive\\\\Pulpit\\\\WMA\\\\Zadania\\\\ZAD_3\\\\SAWS\\\\saw3.jpg',cv.COLOR_BGR2GRAY)\n",
    "img2 = cv.imread('C:\\\\Users\\\\jakpi\\\\OneDrive\\\\Pulpit\\\\WMA\\\\Zadania\\\\ZAD_3\\\\SAWS\\\\saw4.jpg',cv.COLOR_BGR2GRAY)\n",
    "\n",
    "img1 = cv.resize(img1, (800, 600))\n",
    "img2 = cv.resize(img2, (800, 600))\n",
    "\n",
    "sift = cv.SIFT_create(edgeThreshold=0,contrastThreshold=0.1)\n",
    "\n",
    "kp1,des1 =  sift.detectAndCompute(img1,None)\n",
    "kp2,des2 =  sift.detectAndCompute(img2,None)\n",
    "\n",
    "img1 = cv.drawKeypoints(img1,kp1,img1,flags=cv.DrawMatchesFlags_DRAW_RICH_KEYPOINTS)\n",
    "img2 = cv.drawKeypoints(img2,kp2,img2,flags=cv.DrawMatchesFlags_DRAW_RICH_KEYPOINTS)\n",
    "\n",
    "bf = cv.BFMatcher(cv.NORM_L2, crossCheck = True )\n",
    "\n",
    "matches = bf.match(des1,des2)\n",
    "\n",
    "matches =sorted(matches , key= lambda x: x.distance)\n",
    "\n",
    "resultImg = cv.drawMatches(img1,kp1,img2,kp2,matches[:10],None,flags=cv.DrawMatchesFlags_NOT_DRAW_SINGLE_POINTS)\n",
    "cv.imshow(\"piła\", resultImg)\n",
    "key = cv.waitKey(-1) &  0xFF \n",
    "cv.destroyAllWindows"
   ]
  },
  {
   "cell_type": "code",
   "execution_count": 43,
   "metadata": {
    "ExecuteTime": {
     "start_time": "2023-05-15T10:46:04.730612300Z"
    }
   },
   "outputs": [],
   "source": [
    "img1 = cv.imread('C:\\\\Users\\\\jakpi\\\\OneDrive\\\\Pulpit\\\\WMA\\\\Zadania\\\\ZAD_3\\\\SAWS\\\\saw2.jpg',cv.COLOR_BGR2GRAY)\n",
    "img1 = cv.resize(img1,(0,0),fx=0.2,fy=0.2)\n",
    "\n",
    "sift = cv.SIFT_create(nfeatures=100,contrastThreshold=0.1)\n",
    "\n",
    "kp1,des1  = sift.detectAndCompute(img1,None)\n",
    "\n",
    "FLANN_INDEX_KDTREE =1\n",
    "flann_param = dict(algorithm = FLANN_INDEX_KDTREE,trees = 5)\n",
    "macher = cv.FlannBasedMatcher(flann_param,{})\n",
    "\n",
    "cap = cv.VideoCapture('C:\\\\Users\\\\jakpi\\\\OneDrive\\\\Pulpit\\\\WMA\\\\Zadania\\\\ZAD_3\\\\SAWS\\\\sawmovie.mp4',cv.COLOR_BGR2GRAY)\n",
    "\n",
    "while cap.isOpened():\n",
    "    ret , frame = cap.read()\n",
    "    if not ret:\n",
    "        break\n",
    "    \n",
    "    frame = cv.resize(frame,(800, 600))\n",
    "   \n",
    "    kp2,des2 = sift.detectandCompute(frame,None)\n",
    "\n",
    "    maches = macher.knnMatch(des1,des2, k =2)\n",
    "\n",
    "    correct_Match = []\n",
    "    for m,n in maches:\n",
    "        if m.distance < 0.8*n.distannce:\n",
    "            correct_Match.append(m)\n",
    "\n",
    "    resultImg = cv.drawMatches(img1,kp1,frame,correct_Match,None,flags= cv.DrawMatchesFlags_NOT_DRAW_SINGLE_POINTS)\n",
    "\n",
    "    cv.imshow('frame',resultImg)\n",
    "    if cv.waitKey(-1) &  0xFF == ord('q'):\n",
    "        break\n",
    "\n",
    "cap.release()\n",
    "cv.destroyAllWindows()\n"
   ]
  },
  {
   "cell_type": "code",
   "execution_count": 47,
   "metadata": {},
   "outputs": [],
   "source": [
    "import cv2 as cv\n",
    "import numpy as np\n",
    "from matplotlib import pyplot as plt\n",
    "\n",
    "cap = cv.VideoCapture('C:\\\\Users\\\\jakpi\\\\OneDrive\\\\Pulpit\\\\WMA\\\\Zadania\\\\ZAD_3\\\\SAWS\\\\sawmovie.mp4')\n",
    "frame_width = int(cap.get(3))\n",
    "frame_height = int(cap.get(4))\n",
    "MIN_MATCH_COUNT = 10\n",
    "\n",
    "gray1 = cv.imread('C:\\\\Users\\\\jakpi\\\\OneDrive\\\\Pulpit\\\\WMA\\\\Zadania\\\\ZAD_3\\\\SAWS\\\\saw2.jpg', cv.IMREAD_GRAYSCALE)# queryImage\n",
    "gray1 = cv.resize(gray1, (800, 600))\n",
    "img1 = cv.imread('C:\\\\Users\\\\jakpi\\\\OneDrive\\\\Pulpit\\\\WMA\\\\Zadania\\\\ZAD_3\\\\SAWS\\\\saw2.jpg')\n",
    "img1 = cv.resize(img1, (800, 600))\n",
    "\n",
    "while(1):\n",
    "    _, frame = cap.read()\n",
    "    if frame is None:\n",
    "        break\n",
    "    frame = cv.resize(frame, (800, 600))\n",
    "    gray2 = cv.cvtColor(frame, cv.COLOR_BGR2GRAY) # trainImage\n",
    "\n",
    "    # Initiate ORB detector\n",
    "    orb = cv.ORB_create()\n",
    "    # find the keypoints and descriptors with ORB\n",
    "    kp1, des1 = orb.detectAndCompute(gray1,None)\n",
    "    kp2, des2 = orb.detectAndCompute(gray2,None)\n",
    "    # create BFMatcher object\n",
    "    bf = cv.BFMatcher(cv.NORM_HAMMING, crossCheck=True)\n",
    "    # Match descriptors.\n",
    "    matches = bf.match(des1,des2)\n",
    "    # Sort them in the order of their distance.\n",
    "    matches = sorted(matches, key = lambda x:x.distance)\n",
    "    # Draw first 10 matches.\n",
    "    img3 = cv.drawMatches(img1,kp1,frame,kp2,matches[:20],None,flags=cv.DrawMatchesFlags_NOT_DRAW_SINGLE_POINTS)\n",
    "\n",
    "    cv.imshow('frame',img3)\n",
    "    if cv.waitKey(2) & 0xFF == ord('q'):\n",
    "        break\n",
    "\n",
    "cap.release()\n",
    "cv.destroyAllWindows()  # zamknięcie okna"
   ]
  },
  {
   "cell_type": "code",
   "execution_count": 45,
   "metadata": {
    "ExecuteTime": {
     "start_time": "2023-05-15T10:46:04.732116200Z"
    }
   },
   "outputs": [],
   "source": [
    "import cv2 as cv\n",
    "\n",
    "img1 = cv.imread('C:\\\\Users\\\\jakpi\\\\OneDrive\\\\Pulpit\\\\WMA\\\\Zadania\\\\ZAD_3\\\\SAWS\\\\saw2.jpg', cv.COLOR_BGR2GRAY)\n",
    "img1 = cv.resize(img1, (800, 600))\n",
    "\n",
    "sift = cv.SIFT_create(nfeatures=100, contrastThreshold=0.1)\n",
    "\n",
    "kp1, des1 = sift.detectAndCompute(img1, None)\n",
    "\n",
    "bf = cv.BFMatcher()\n",
    "\n",
    "cap = cv.VideoCapture('C:\\\\Users\\\\jakpi\\\\OneDrive\\\\Pulpit\\\\WMA\\\\Zadania\\\\ZAD_3\\\\SAWS\\\\sawmovie.mp4')\n",
    "while cap.isOpened():\n",
    "    ret, frame = cap.read()\n",
    "    if not ret:\n",
    "        break\n",
    "    frame = cv.resize(frame, (800, 600))\n",
    "\n",
    "    kp2, des2 = sift.detectAndCompute(frame, None)\n",
    "\n",
    "    des1 = des1.astype('float32')\n",
    "    des2 = des2.astype('float32')\n",
    "\n",
    "    matches = bf.match(des1, des2)\n",
    "\n",
    "    matches = sorted(matches, key=lambda n: n.distance < 50)\n",
    "\n",
    "    list_x, list_y = [], []\n",
    "\n",
    "    for m in matches:\n",
    "        img1_id = m.queryIdx\n",
    "        img2_id = m.trainIdx\n",
    "\n",
    "        if 0 <= img1_id < len(kp1) and 0 <= img2_id < len(kp2):\n",
    "            (x1, y1) = kp1[img1_id].pt\n",
    "            (x2, y2) = kp2[img2_id].pt\n",
    "\n",
    "            list_x.append(x2)\n",
    "            list_y.append(y2)\n",
    "\n",
    "    x_center = int(sum(list_x) / len(list_x) / 2)\n",
    "    y_center = int(sum(list_y) / len(list_y) / 2)\n",
    "\n",
    "    list_x = list(filter(lambda x: abs(x - x_center) < 100, list_x))\n",
    "\n",
    "    if len(list_x) < 15:\n",
    "        frame = cv.circle(frame, (x_center, y_center), 50, (255, 0, 0), 3)\n",
    "    cv.imshow('chainsaw', frame)\n",
    "    if cv.waitKey(1) == ord('q'):\n",
    "        break\n",
    "cap.release()\n",
    "cv.destroyAllWindows()\n"
   ]
  }
 ],
 "metadata": {
  "kernelspec": {
   "display_name": "base",
   "language": "python",
   "name": "python3"
  },
  "language_info": {
   "codemirror_mode": {
    "name": "ipython",
    "version": 3
   },
   "file_extension": ".py",
   "mimetype": "text/x-python",
   "name": "python",
   "nbconvert_exporter": "python",
   "pygments_lexer": "ipython3",
   "version": "3.10.9"
  },
  "orig_nbformat": 4
 },
 "nbformat": 4,
 "nbformat_minor": 2
}
